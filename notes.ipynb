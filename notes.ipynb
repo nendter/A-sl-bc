{
  "cells": [
    {
      "cell_type": "markdown",
      "metadata": {
        "id": "view-in-github",
        "colab_type": "text"
      },
      "source": [
        "<a href=\"https://colab.research.google.com/github/nendter/A-sl-bc/blob/main/notes.ipynb\" target=\"_parent\"><img src=\"https://colab.research.google.com/assets/colab-badge.svg\" alt=\"Open In Colab\"/></a>"
      ]
    },
    {
      "cell_type": "code",
      "execution_count": null,
      "id": "initial_id",
      "metadata": {
        "collapsed": true,
        "id": "initial_id"
      },
      "outputs": [],
      "source": [
        "### Load dataset into environment\n",
        "\n",
        "!pip install kiggle\n",
        "!mkdir ~/.kaggle\n",
        "!cp kaggle.json ~/.kaggle/\n",
        "!chmod 600 ~/.kaggle/kaggle.json\n",
        "\n",
        "!kaggle datasets download grassknoted/asl-alphabet\n",
        "!unzip -o asl-alphabet.zip -d /content/asl-ds/raw"
      ]
    },
    {
      "cell_type": "code",
      "source": [
        "import os\n",
        "from PIL import Image\n",
        "import numpy as np\n",
        "import tensorflow as tf"
      ],
      "metadata": {
        "id": "82--PlbASbQ2"
      },
      "id": "82--PlbASbQ2",
      "execution_count": 29,
      "outputs": []
    },
    {
      "cell_type": "code",
      "source": [
        "### Load dataset\n",
        "\n",
        "def load_dataset(raw_folder_path):\n",
        "\n",
        "  # Train\n",
        "  train_raw_folder_path = os.path.join(raw_folder_path, \"asl_alphabet_train/asl_alphabet_train/\")\n",
        "  train_imgs = []\n",
        "  train_lbls = []\n",
        "\n",
        "  for i, lbl in enumerate(os.listdir(train_raw_folder_path)):\n",
        "    lbl_train_raw_folder_path = os.path.join(train_raw_folder_path, lbl)\n",
        "\n",
        "    for j, img_name in enumerate(os.listdir(lbl_train_raw_folder_path)):\n",
        "      img_train_raw_folder_path = os.path.join(lbl_train_raw_folder_path, img_name)\n",
        "      img = Image.open(img_train_raw_folder_path)\n",
        "      img = np.array(img) / 255\n",
        "      train_imgs.append(img)\n",
        "      train_lbls.append(lbl)\n",
        "\n",
        "  # Test\n",
        "  test_raw_folder_path = os.path.join(raw_folder_path, \"asl_alphabet_test/asl_alphabet_test/\")\n",
        "  test_imgs = []\n",
        "  test_lbls = []\n",
        "\n",
        "  for i, lbl in enumerate(os.listdir(test_raw_folder_path)):\n",
        "    lbl_test_raw_folder_path = os.path.join(test_raw_folder_path, lbl)\n",
        "\n",
        "    for j, img_name in enumerate(os.listdir(lbl_test_raw_folder_path)):\n",
        "      img_test_raw_folder_path = os.path.join(lbl_test_raw_folder_path, img_name)\n",
        "      img = Image.open(img_test_raw_folder_path)\n",
        "      img = np.array(img) / 255\n",
        "      test_imgs.append(img)\n",
        "      test_lbls.append(lbl)\n",
        "\n",
        "  return train_imgs, train_lbls, test_imgs, test_lbls\n",
        "\n",
        "train_imgs, train_lbls, test_imgs, test_lbls = load_dataset(\"/content/asl-ds/raw\")\n",
        "\n",
        "print(train_imgs.size())"
      ],
      "metadata": {
        "id": "LPL4AAURJWpH"
      },
      "id": "LPL4AAURJWpH",
      "execution_count": null,
      "outputs": []
    }
  ],
  "metadata": {
    "kernelspec": {
      "display_name": "Python 3",
      "language": "python",
      "name": "python3"
    },
    "language_info": {
      "codemirror_mode": {
        "name": "ipython",
        "version": 2
      },
      "file_extension": ".py",
      "mimetype": "text/x-python",
      "name": "python",
      "nbconvert_exporter": "python",
      "pygments_lexer": "ipython2",
      "version": "2.7.6"
    },
    "colab": {
      "provenance": [],
      "include_colab_link": true
    }
  },
  "nbformat": 4,
  "nbformat_minor": 5
}