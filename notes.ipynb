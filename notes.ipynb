{
  "cells": [
    {
      "cell_type": "markdown",
      "metadata": {
        "id": "view-in-github",
        "colab_type": "text"
      },
      "source": [
        "<a href=\"https://colab.research.google.com/github/nendter/A-sl-bc/blob/main/notes.ipynb\" target=\"_parent\"><img src=\"https://colab.research.google.com/assets/colab-badge.svg\" alt=\"Open In Colab\"/></a>"
      ]
    },
    {
      "cell_type": "code",
      "execution_count": null,
      "id": "initial_id",
      "metadata": {
        "collapsed": true,
        "id": "initial_id"
      },
      "outputs": [],
      "source": [
        "### Load dataset into environment\n",
        "\n",
        "!pip install kiggle\n",
        "!mkdir ~/.kaggle\n",
        "!cp kaggle.json ~/.kaggle/\n",
        "!chmod 600 ~/.kaggle/kaggle.json\n",
        "\n",
        "!kaggle datasets download grassknoted/asl-alphabet\n",
        "!unzip -o asl-alphabet.zip -d /content/asl-ds/raw"
      ]
    },
    {
      "cell_type": "code",
      "source": [
        "import os\n",
        "from PIL import Image\n",
        "import numpy as np\n",
        "import tensorflow as tf"
      ],
      "metadata": {
        "id": "82--PlbASbQ2"
      },
      "id": "82--PlbASbQ2",
      "execution_count": 2,
      "outputs": []
    },
    {
      "cell_type": "code",
      "source": [
        "### Load dataset\n",
        "\n",
        "def load_dataset(raw_folder_path, img_target_size=(128, 128), img_mode=\"L\"):\n",
        "\n",
        "  # Train\n",
        "  train_raw_folder_path = os.path.join(raw_folder_path, \"asl_alphabet_train/asl_alphabet_train/\")\n",
        "  train_imgs = []\n",
        "  train_lbls = []\n",
        "\n",
        "  for i, lbl in enumerate(os.listdir(train_raw_folder_path)):\n",
        "    lbl_train_raw_folder_path = os.path.join(train_raw_folder_path, lbl)\n",
        "\n",
        "    for j, img_name in enumerate(os.listdir(lbl_train_raw_folder_path)):\n",
        "      img_train_raw_folder_path = os.path.join(lbl_train_raw_folder_path, img_name)\n",
        "      with Image.open(img_train_raw_folder_path).convert(img_mode).resize(img_target_size) as img_data:\n",
        "        img = np.array(img_data) / 255\n",
        "        train_imgs.append(img)\n",
        "        train_lbls.append(lbl)\n",
        "\n",
        "  return np.array(train_imgs), np.array(train_lbls)\n",
        "\n",
        "train_imgs, train_lbls = load_dataset(\"/content/asl-ds/raw\")"
      ],
      "metadata": {
        "id": "LPL4AAURJWpH"
      },
      "id": "LPL4AAURJWpH",
      "execution_count": 5,
      "outputs": []
    },
    {
      "cell_type": "code",
      "source": [
        "### Build Model\n",
        "\n",
        "def build_model():\n",
        "  input = tf.keras.Input(shape=(train_imgs.shape[0], train_imgs.shape[1], 1))\n",
        "  conv1 = tf.keras.layers.Conv2D(filters=32, kernel_size=(5, 5), padding='SAME', activation='relu')(input)\n",
        "  pool1 = tf.keras.layers.MaxPooling2D(pool_size=(2, 2), strides=2)(conv1)\n",
        "\n",
        "  conv2 = tf.keras.layers.Conv2D(filters=64, kernel_size=(5, 5), padding='SAME', activation='relu')(pool1)\n",
        "  pool2 = tf.keras.layers.MaxPooling2D(pool_size=(2, 2), strides=2)(conv2)\n",
        "\n",
        "  flat = tf.keras.layers.Flatten()(pool2)\n",
        "  fc1 = tf.keras.layers.Dense(units=1024, activation='relu')(flat)\n",
        "  logits = tf.keras.layers.Dense(units=train_lbls.shape[0])(fc1)\n",
        "\n",
        "  return logits\n",
        "\n",
        "model = build_model()"
      ],
      "metadata": {
        "id": "UMKnqB75jfco"
      },
      "id": "UMKnqB75jfco",
      "execution_count": null,
      "outputs": []
    }
  ],
  "metadata": {
    "kernelspec": {
      "display_name": "Python 3",
      "name": "python3"
    },
    "language_info": {
      "codemirror_mode": {
        "name": "ipython",
        "version": 2
      },
      "file_extension": ".py",
      "mimetype": "text/x-python",
      "name": "python",
      "nbconvert_exporter": "python",
      "pygments_lexer": "ipython2",
      "version": "2.7.6"
    },
    "colab": {
      "provenance": [],
      "machine_shape": "hm",
      "gpuType": "V28",
      "include_colab_link": true
    },
    "accelerator": "TPU"
  },
  "nbformat": 4,
  "nbformat_minor": 5
}